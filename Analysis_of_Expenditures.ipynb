{
  "nbformat": 4,
  "nbformat_minor": 0,
  "metadata": {
    "colab": {
      "provenance": []
    },
    "kernelspec": {
      "name": "python3",
      "display_name": "Python 3"
    },
    "language_info": {
      "name": "python"
    }
  },
  "cells": [
    {
      "cell_type": "markdown",
      "source": [
        "# 1. Introduction\n",
        "\n",
        "### This analysis examines potential racial bias in the allocation of expenditures for individuals with developmental disabilities in Georgia. The dataset includes demographic and expenditure details for Hispanic and White non-Hispanic consumers. By analyzing expenditure distribution across different age cohorts, we aim to determine whether disparities exist and assess if there is evidence of discrimination in funding allocation."
      ],
      "metadata": {
        "id": "UqJh-eGVqfoy"
      }
    },
    {
      "cell_type": "markdown",
      "source": [
        "# Step 1: Set Up Your Environment\n",
        "### Import the necessary libraries:"
      ],
      "metadata": {
        "id": "mt-Ts3tEXGpb"
      }
    },
    {
      "cell_type": "code",
      "execution_count": null,
      "metadata": {
        "colab": {
          "base_uri": "https://localhost:8080/"
        },
        "id": "Wyr7p6HLR8N2",
        "outputId": "0c555251-70ff-4ecd-e70a-a28b41116460"
      },
      "outputs": [
        {
          "output_type": "stream",
          "name": "stdout",
          "text": [
            "Requirement already satisfied: pandas in /usr/local/lib/python3.11/dist-packages (2.2.2)\n",
            "Requirement already satisfied: numpy in /usr/local/lib/python3.11/dist-packages (1.26.4)\n",
            "Requirement already satisfied: matplotlib in /usr/local/lib/python3.11/dist-packages (3.10.0)\n",
            "Requirement already satisfied: seaborn in /usr/local/lib/python3.11/dist-packages (0.13.2)\n",
            "Requirement already satisfied: python-dateutil>=2.8.2 in /usr/local/lib/python3.11/dist-packages (from pandas) (2.8.2)\n",
            "Requirement already satisfied: pytz>=2020.1 in /usr/local/lib/python3.11/dist-packages (from pandas) (2025.1)\n",
            "Requirement already satisfied: tzdata>=2022.7 in /usr/local/lib/python3.11/dist-packages (from pandas) (2025.1)\n",
            "Requirement already satisfied: contourpy>=1.0.1 in /usr/local/lib/python3.11/dist-packages (from matplotlib) (1.3.1)\n",
            "Requirement already satisfied: cycler>=0.10 in /usr/local/lib/python3.11/dist-packages (from matplotlib) (0.12.1)\n",
            "Requirement already satisfied: fonttools>=4.22.0 in /usr/local/lib/python3.11/dist-packages (from matplotlib) (4.56.0)\n",
            "Requirement already satisfied: kiwisolver>=1.3.1 in /usr/local/lib/python3.11/dist-packages (from matplotlib) (1.4.8)\n",
            "Requirement already satisfied: packaging>=20.0 in /usr/local/lib/python3.11/dist-packages (from matplotlib) (24.2)\n",
            "Requirement already satisfied: pillow>=8 in /usr/local/lib/python3.11/dist-packages (from matplotlib) (11.1.0)\n",
            "Requirement already satisfied: pyparsing>=2.3.1 in /usr/local/lib/python3.11/dist-packages (from matplotlib) (3.2.1)\n",
            "Requirement already satisfied: six>=1.5 in /usr/local/lib/python3.11/dist-packages (from python-dateutil>=2.8.2->pandas) (1.17.0)\n"
          ]
        }
      ],
      "source": [
        "# Install libraries if not installed\n",
        "!pip install pandas numpy matplotlib seaborn\n",
        "\n",
        "# Import necessary libraries\n",
        "import pandas as pd\n",
        "import numpy as np\n",
        "import seaborn as sns\n",
        "import matplotlib.pyplot as plt\n"
      ]
    },
    {
      "cell_type": "markdown",
      "source": [
        "# Step 2: Load the Dataset\n",
        "### Upload your expenditure_data.csv to Google Colab"
      ],
      "metadata": {
        "id": "VTbBk2pqX8eE"
      }
    },
    {
      "cell_type": "code",
      "source": [
        "# Load the dataset\n",
        "df = pd.read_csv(\"expenditure_data.csv\")\n",
        "\n",
        "# Preview the dataset\n",
        "df.head()\n"
      ],
      "metadata": {
        "colab": {
          "base_uri": "https://localhost:8080/",
          "height": 206
        },
        "id": "Jd6bwGuOWOHD",
        "outputId": "218e2dda-c4cd-4203-e027-0fd891c90569"
      },
      "execution_count": null,
      "outputs": [
        {
          "output_type": "execute_result",
          "data": {
            "text/plain": [
              "   Id  Age  Gender  Expenditures           Ethnicity\n",
              "0   1   17  Female          2113  White not Hispanic\n",
              "1   2   37    Male         41924  White not Hispanic\n",
              "2   3    3    Male          1454            Hispanic\n",
              "3   4  -19  Female          6400            Hispanic\n",
              "4   5   13    Male          4412  White not Hispanic"
            ],
            "text/html": [
              "\n",
              "  <div id=\"df-341673a8-3e58-4fc5-94bc-e6b77d2ef9d8\" class=\"colab-df-container\">\n",
              "    <div>\n",
              "<style scoped>\n",
              "    .dataframe tbody tr th:only-of-type {\n",
              "        vertical-align: middle;\n",
              "    }\n",
              "\n",
              "    .dataframe tbody tr th {\n",
              "        vertical-align: top;\n",
              "    }\n",
              "\n",
              "    .dataframe thead th {\n",
              "        text-align: right;\n",
              "    }\n",
              "</style>\n",
              "<table border=\"1\" class=\"dataframe\">\n",
              "  <thead>\n",
              "    <tr style=\"text-align: right;\">\n",
              "      <th></th>\n",
              "      <th>Id</th>\n",
              "      <th>Age</th>\n",
              "      <th>Gender</th>\n",
              "      <th>Expenditures</th>\n",
              "      <th>Ethnicity</th>\n",
              "    </tr>\n",
              "  </thead>\n",
              "  <tbody>\n",
              "    <tr>\n",
              "      <th>0</th>\n",
              "      <td>1</td>\n",
              "      <td>17</td>\n",
              "      <td>Female</td>\n",
              "      <td>2113</td>\n",
              "      <td>White not Hispanic</td>\n",
              "    </tr>\n",
              "    <tr>\n",
              "      <th>1</th>\n",
              "      <td>2</td>\n",
              "      <td>37</td>\n",
              "      <td>Male</td>\n",
              "      <td>41924</td>\n",
              "      <td>White not Hispanic</td>\n",
              "    </tr>\n",
              "    <tr>\n",
              "      <th>2</th>\n",
              "      <td>3</td>\n",
              "      <td>3</td>\n",
              "      <td>Male</td>\n",
              "      <td>1454</td>\n",
              "      <td>Hispanic</td>\n",
              "    </tr>\n",
              "    <tr>\n",
              "      <th>3</th>\n",
              "      <td>4</td>\n",
              "      <td>-19</td>\n",
              "      <td>Female</td>\n",
              "      <td>6400</td>\n",
              "      <td>Hispanic</td>\n",
              "    </tr>\n",
              "    <tr>\n",
              "      <th>4</th>\n",
              "      <td>5</td>\n",
              "      <td>13</td>\n",
              "      <td>Male</td>\n",
              "      <td>4412</td>\n",
              "      <td>White not Hispanic</td>\n",
              "    </tr>\n",
              "  </tbody>\n",
              "</table>\n",
              "</div>\n",
              "    <div class=\"colab-df-buttons\">\n",
              "\n",
              "  <div class=\"colab-df-container\">\n",
              "    <button class=\"colab-df-convert\" onclick=\"convertToInteractive('df-341673a8-3e58-4fc5-94bc-e6b77d2ef9d8')\"\n",
              "            title=\"Convert this dataframe to an interactive table.\"\n",
              "            style=\"display:none;\">\n",
              "\n",
              "  <svg xmlns=\"http://www.w3.org/2000/svg\" height=\"24px\" viewBox=\"0 -960 960 960\">\n",
              "    <path d=\"M120-120v-720h720v720H120Zm60-500h600v-160H180v160Zm220 220h160v-160H400v160Zm0 220h160v-160H400v160ZM180-400h160v-160H180v160Zm440 0h160v-160H620v160ZM180-180h160v-160H180v160Zm440 0h160v-160H620v160Z\"/>\n",
              "  </svg>\n",
              "    </button>\n",
              "\n",
              "  <style>\n",
              "    .colab-df-container {\n",
              "      display:flex;\n",
              "      gap: 12px;\n",
              "    }\n",
              "\n",
              "    .colab-df-convert {\n",
              "      background-color: #E8F0FE;\n",
              "      border: none;\n",
              "      border-radius: 50%;\n",
              "      cursor: pointer;\n",
              "      display: none;\n",
              "      fill: #1967D2;\n",
              "      height: 32px;\n",
              "      padding: 0 0 0 0;\n",
              "      width: 32px;\n",
              "    }\n",
              "\n",
              "    .colab-df-convert:hover {\n",
              "      background-color: #E2EBFA;\n",
              "      box-shadow: 0px 1px 2px rgba(60, 64, 67, 0.3), 0px 1px 3px 1px rgba(60, 64, 67, 0.15);\n",
              "      fill: #174EA6;\n",
              "    }\n",
              "\n",
              "    .colab-df-buttons div {\n",
              "      margin-bottom: 4px;\n",
              "    }\n",
              "\n",
              "    [theme=dark] .colab-df-convert {\n",
              "      background-color: #3B4455;\n",
              "      fill: #D2E3FC;\n",
              "    }\n",
              "\n",
              "    [theme=dark] .colab-df-convert:hover {\n",
              "      background-color: #434B5C;\n",
              "      box-shadow: 0px 1px 3px 1px rgba(0, 0, 0, 0.15);\n",
              "      filter: drop-shadow(0px 1px 2px rgba(0, 0, 0, 0.3));\n",
              "      fill: #FFFFFF;\n",
              "    }\n",
              "  </style>\n",
              "\n",
              "    <script>\n",
              "      const buttonEl =\n",
              "        document.querySelector('#df-341673a8-3e58-4fc5-94bc-e6b77d2ef9d8 button.colab-df-convert');\n",
              "      buttonEl.style.display =\n",
              "        google.colab.kernel.accessAllowed ? 'block' : 'none';\n",
              "\n",
              "      async function convertToInteractive(key) {\n",
              "        const element = document.querySelector('#df-341673a8-3e58-4fc5-94bc-e6b77d2ef9d8');\n",
              "        const dataTable =\n",
              "          await google.colab.kernel.invokeFunction('convertToInteractive',\n",
              "                                                    [key], {});\n",
              "        if (!dataTable) return;\n",
              "\n",
              "        const docLinkHtml = 'Like what you see? Visit the ' +\n",
              "          '<a target=\"_blank\" href=https://colab.research.google.com/notebooks/data_table.ipynb>data table notebook</a>'\n",
              "          + ' to learn more about interactive tables.';\n",
              "        element.innerHTML = '';\n",
              "        dataTable['output_type'] = 'display_data';\n",
              "        await google.colab.output.renderOutput(dataTable, element);\n",
              "        const docLink = document.createElement('div');\n",
              "        docLink.innerHTML = docLinkHtml;\n",
              "        element.appendChild(docLink);\n",
              "      }\n",
              "    </script>\n",
              "  </div>\n",
              "\n",
              "\n",
              "<div id=\"df-b7a0f5b5-3cf4-4c21-8e7d-b14b8b401fb6\">\n",
              "  <button class=\"colab-df-quickchart\" onclick=\"quickchart('df-b7a0f5b5-3cf4-4c21-8e7d-b14b8b401fb6')\"\n",
              "            title=\"Suggest charts\"\n",
              "            style=\"display:none;\">\n",
              "\n",
              "<svg xmlns=\"http://www.w3.org/2000/svg\" height=\"24px\"viewBox=\"0 0 24 24\"\n",
              "     width=\"24px\">\n",
              "    <g>\n",
              "        <path d=\"M19 3H5c-1.1 0-2 .9-2 2v14c0 1.1.9 2 2 2h14c1.1 0 2-.9 2-2V5c0-1.1-.9-2-2-2zM9 17H7v-7h2v7zm4 0h-2V7h2v10zm4 0h-2v-4h2v4z\"/>\n",
              "    </g>\n",
              "</svg>\n",
              "  </button>\n",
              "\n",
              "<style>\n",
              "  .colab-df-quickchart {\n",
              "      --bg-color: #E8F0FE;\n",
              "      --fill-color: #1967D2;\n",
              "      --hover-bg-color: #E2EBFA;\n",
              "      --hover-fill-color: #174EA6;\n",
              "      --disabled-fill-color: #AAA;\n",
              "      --disabled-bg-color: #DDD;\n",
              "  }\n",
              "\n",
              "  [theme=dark] .colab-df-quickchart {\n",
              "      --bg-color: #3B4455;\n",
              "      --fill-color: #D2E3FC;\n",
              "      --hover-bg-color: #434B5C;\n",
              "      --hover-fill-color: #FFFFFF;\n",
              "      --disabled-bg-color: #3B4455;\n",
              "      --disabled-fill-color: #666;\n",
              "  }\n",
              "\n",
              "  .colab-df-quickchart {\n",
              "    background-color: var(--bg-color);\n",
              "    border: none;\n",
              "    border-radius: 50%;\n",
              "    cursor: pointer;\n",
              "    display: none;\n",
              "    fill: var(--fill-color);\n",
              "    height: 32px;\n",
              "    padding: 0;\n",
              "    width: 32px;\n",
              "  }\n",
              "\n",
              "  .colab-df-quickchart:hover {\n",
              "    background-color: var(--hover-bg-color);\n",
              "    box-shadow: 0 1px 2px rgba(60, 64, 67, 0.3), 0 1px 3px 1px rgba(60, 64, 67, 0.15);\n",
              "    fill: var(--button-hover-fill-color);\n",
              "  }\n",
              "\n",
              "  .colab-df-quickchart-complete:disabled,\n",
              "  .colab-df-quickchart-complete:disabled:hover {\n",
              "    background-color: var(--disabled-bg-color);\n",
              "    fill: var(--disabled-fill-color);\n",
              "    box-shadow: none;\n",
              "  }\n",
              "\n",
              "  .colab-df-spinner {\n",
              "    border: 2px solid var(--fill-color);\n",
              "    border-color: transparent;\n",
              "    border-bottom-color: var(--fill-color);\n",
              "    animation:\n",
              "      spin 1s steps(1) infinite;\n",
              "  }\n",
              "\n",
              "  @keyframes spin {\n",
              "    0% {\n",
              "      border-color: transparent;\n",
              "      border-bottom-color: var(--fill-color);\n",
              "      border-left-color: var(--fill-color);\n",
              "    }\n",
              "    20% {\n",
              "      border-color: transparent;\n",
              "      border-left-color: var(--fill-color);\n",
              "      border-top-color: var(--fill-color);\n",
              "    }\n",
              "    30% {\n",
              "      border-color: transparent;\n",
              "      border-left-color: var(--fill-color);\n",
              "      border-top-color: var(--fill-color);\n",
              "      border-right-color: var(--fill-color);\n",
              "    }\n",
              "    40% {\n",
              "      border-color: transparent;\n",
              "      border-right-color: var(--fill-color);\n",
              "      border-top-color: var(--fill-color);\n",
              "    }\n",
              "    60% {\n",
              "      border-color: transparent;\n",
              "      border-right-color: var(--fill-color);\n",
              "    }\n",
              "    80% {\n",
              "      border-color: transparent;\n",
              "      border-right-color: var(--fill-color);\n",
              "      border-bottom-color: var(--fill-color);\n",
              "    }\n",
              "    90% {\n",
              "      border-color: transparent;\n",
              "      border-bottom-color: var(--fill-color);\n",
              "    }\n",
              "  }\n",
              "</style>\n",
              "\n",
              "  <script>\n",
              "    async function quickchart(key) {\n",
              "      const quickchartButtonEl =\n",
              "        document.querySelector('#' + key + ' button');\n",
              "      quickchartButtonEl.disabled = true;  // To prevent multiple clicks.\n",
              "      quickchartButtonEl.classList.add('colab-df-spinner');\n",
              "      try {\n",
              "        const charts = await google.colab.kernel.invokeFunction(\n",
              "            'suggestCharts', [key], {});\n",
              "      } catch (error) {\n",
              "        console.error('Error during call to suggestCharts:', error);\n",
              "      }\n",
              "      quickchartButtonEl.classList.remove('colab-df-spinner');\n",
              "      quickchartButtonEl.classList.add('colab-df-quickchart-complete');\n",
              "    }\n",
              "    (() => {\n",
              "      let quickchartButtonEl =\n",
              "        document.querySelector('#df-b7a0f5b5-3cf4-4c21-8e7d-b14b8b401fb6 button');\n",
              "      quickchartButtonEl.style.display =\n",
              "        google.colab.kernel.accessAllowed ? 'block' : 'none';\n",
              "    })();\n",
              "  </script>\n",
              "</div>\n",
              "\n",
              "    </div>\n",
              "  </div>\n"
            ],
            "application/vnd.google.colaboratory.intrinsic+json": {
              "type": "dataframe",
              "variable_name": "df",
              "summary": "{\n  \"name\": \"df\",\n  \"rows\": 1000,\n  \"fields\": [\n    {\n      \"column\": \"Id\",\n      \"properties\": {\n        \"dtype\": \"number\",\n        \"std\": 288,\n        \"min\": 1,\n        \"max\": 1000,\n        \"num_unique_values\": 1000,\n        \"samples\": [\n          522,\n          738,\n          741\n        ],\n        \"semantic_type\": \"\",\n        \"description\": \"\"\n      }\n    },\n    {\n      \"column\": \"Age\",\n      \"properties\": {\n        \"dtype\": \"number\",\n        \"std\": 18,\n        \"min\": -19,\n        \"max\": 95,\n        \"num_unique_values\": 88,\n        \"samples\": [\n          64,\n          17,\n          24\n        ],\n        \"semantic_type\": \"\",\n        \"description\": \"\"\n      }\n    },\n    {\n      \"column\": \"Gender\",\n      \"properties\": {\n        \"dtype\": \"category\",\n        \"num_unique_values\": 2,\n        \"samples\": [\n          \"Male\",\n          \"Female\"\n        ],\n        \"semantic_type\": \"\",\n        \"description\": \"\"\n      }\n    },\n    {\n      \"column\": \"Expenditures\",\n      \"properties\": {\n        \"dtype\": \"number\",\n        \"std\": 19564,\n        \"min\": -11491,\n        \"max\": 75098,\n        \"num_unique_values\": 972,\n        \"samples\": [\n          7683,\n          54616\n        ],\n        \"semantic_type\": \"\",\n        \"description\": \"\"\n      }\n    },\n    {\n      \"column\": \"Ethnicity\",\n      \"properties\": {\n        \"dtype\": \"category\",\n        \"num_unique_values\": 8,\n        \"samples\": [\n          \"Hispanic\",\n          \"American Indian\"\n        ],\n        \"semantic_type\": \"\",\n        \"description\": \"\"\n      }\n    }\n  ]\n}"
            }
          },
          "metadata": {},
          "execution_count": 2
        }
      ]
    },
    {
      "cell_type": "markdown",
      "source": [
        "# 2: Data Preprocessing\n",
        "### A. Creating Age Cohort\n",
        "Let's categorize the age groups into the required cohorts."
      ],
      "metadata": {
        "id": "bZUlla1iY0B1"
      }
    },
    {
      "cell_type": "code",
      "source": [
        "# Function to Create Age Cohort\n",
        "def age_cohort(age):\n",
        "    if 0 <= age <= 5:\n",
        "        return '0-5 years'\n",
        "    elif 6 <= age <= 12:\n",
        "        return '6-12 years'\n",
        "    elif 13 <= age <= 17:\n",
        "        return '13-17 years'\n",
        "    elif 18 <= age <= 21:\n",
        "        return '18-21 years'\n",
        "    elif 22 <= age <= 50:\n",
        "        return '22-50 years'\n",
        "    elif age >= 51:\n",
        "        return '51+ years'\n",
        "    else:\n",
        "        return np.nan\n",
        "\n",
        "# Apply the Function\n",
        "df['Age Cohort'] = df['Age'].apply(age_cohort)\n",
        "\n",
        "# Preview the result\n",
        "df.head()\n"
      ],
      "metadata": {
        "colab": {
          "base_uri": "https://localhost:8080/",
          "height": 206
        },
        "id": "1pd0wuANWoBW",
        "outputId": "9bd812f7-9c89-426f-dc36-575bfa948d71"
      },
      "execution_count": null,
      "outputs": [
        {
          "output_type": "execute_result",
          "data": {
            "text/plain": [
              "   Id  Age  Gender  Expenditures           Ethnicity   Age Cohort\n",
              "0   1   17  Female          2113  White not Hispanic  13-17 years\n",
              "1   2   37    Male         41924  White not Hispanic  22-50 years\n",
              "2   3    3    Male          1454            Hispanic    0-5 years\n",
              "3   4  -19  Female          6400            Hispanic          NaN\n",
              "4   5   13    Male          4412  White not Hispanic  13-17 years"
            ],
            "text/html": [
              "\n",
              "  <div id=\"df-6575d232-40d2-4a6e-a185-428447ed1e9d\" class=\"colab-df-container\">\n",
              "    <div>\n",
              "<style scoped>\n",
              "    .dataframe tbody tr th:only-of-type {\n",
              "        vertical-align: middle;\n",
              "    }\n",
              "\n",
              "    .dataframe tbody tr th {\n",
              "        vertical-align: top;\n",
              "    }\n",
              "\n",
              "    .dataframe thead th {\n",
              "        text-align: right;\n",
              "    }\n",
              "</style>\n",
              "<table border=\"1\" class=\"dataframe\">\n",
              "  <thead>\n",
              "    <tr style=\"text-align: right;\">\n",
              "      <th></th>\n",
              "      <th>Id</th>\n",
              "      <th>Age</th>\n",
              "      <th>Gender</th>\n",
              "      <th>Expenditures</th>\n",
              "      <th>Ethnicity</th>\n",
              "      <th>Age Cohort</th>\n",
              "    </tr>\n",
              "  </thead>\n",
              "  <tbody>\n",
              "    <tr>\n",
              "      <th>0</th>\n",
              "      <td>1</td>\n",
              "      <td>17</td>\n",
              "      <td>Female</td>\n",
              "      <td>2113</td>\n",
              "      <td>White not Hispanic</td>\n",
              "      <td>13-17 years</td>\n",
              "    </tr>\n",
              "    <tr>\n",
              "      <th>1</th>\n",
              "      <td>2</td>\n",
              "      <td>37</td>\n",
              "      <td>Male</td>\n",
              "      <td>41924</td>\n",
              "      <td>White not Hispanic</td>\n",
              "      <td>22-50 years</td>\n",
              "    </tr>\n",
              "    <tr>\n",
              "      <th>2</th>\n",
              "      <td>3</td>\n",
              "      <td>3</td>\n",
              "      <td>Male</td>\n",
              "      <td>1454</td>\n",
              "      <td>Hispanic</td>\n",
              "      <td>0-5 years</td>\n",
              "    </tr>\n",
              "    <tr>\n",
              "      <th>3</th>\n",
              "      <td>4</td>\n",
              "      <td>-19</td>\n",
              "      <td>Female</td>\n",
              "      <td>6400</td>\n",
              "      <td>Hispanic</td>\n",
              "      <td>NaN</td>\n",
              "    </tr>\n",
              "    <tr>\n",
              "      <th>4</th>\n",
              "      <td>5</td>\n",
              "      <td>13</td>\n",
              "      <td>Male</td>\n",
              "      <td>4412</td>\n",
              "      <td>White not Hispanic</td>\n",
              "      <td>13-17 years</td>\n",
              "    </tr>\n",
              "  </tbody>\n",
              "</table>\n",
              "</div>\n",
              "    <div class=\"colab-df-buttons\">\n",
              "\n",
              "  <div class=\"colab-df-container\">\n",
              "    <button class=\"colab-df-convert\" onclick=\"convertToInteractive('df-6575d232-40d2-4a6e-a185-428447ed1e9d')\"\n",
              "            title=\"Convert this dataframe to an interactive table.\"\n",
              "            style=\"display:none;\">\n",
              "\n",
              "  <svg xmlns=\"http://www.w3.org/2000/svg\" height=\"24px\" viewBox=\"0 -960 960 960\">\n",
              "    <path d=\"M120-120v-720h720v720H120Zm60-500h600v-160H180v160Zm220 220h160v-160H400v160Zm0 220h160v-160H400v160ZM180-400h160v-160H180v160Zm440 0h160v-160H620v160ZM180-180h160v-160H180v160Zm440 0h160v-160H620v160Z\"/>\n",
              "  </svg>\n",
              "    </button>\n",
              "\n",
              "  <style>\n",
              "    .colab-df-container {\n",
              "      display:flex;\n",
              "      gap: 12px;\n",
              "    }\n",
              "\n",
              "    .colab-df-convert {\n",
              "      background-color: #E8F0FE;\n",
              "      border: none;\n",
              "      border-radius: 50%;\n",
              "      cursor: pointer;\n",
              "      display: none;\n",
              "      fill: #1967D2;\n",
              "      height: 32px;\n",
              "      padding: 0 0 0 0;\n",
              "      width: 32px;\n",
              "    }\n",
              "\n",
              "    .colab-df-convert:hover {\n",
              "      background-color: #E2EBFA;\n",
              "      box-shadow: 0px 1px 2px rgba(60, 64, 67, 0.3), 0px 1px 3px 1px rgba(60, 64, 67, 0.15);\n",
              "      fill: #174EA6;\n",
              "    }\n",
              "\n",
              "    .colab-df-buttons div {\n",
              "      margin-bottom: 4px;\n",
              "    }\n",
              "\n",
              "    [theme=dark] .colab-df-convert {\n",
              "      background-color: #3B4455;\n",
              "      fill: #D2E3FC;\n",
              "    }\n",
              "\n",
              "    [theme=dark] .colab-df-convert:hover {\n",
              "      background-color: #434B5C;\n",
              "      box-shadow: 0px 1px 3px 1px rgba(0, 0, 0, 0.15);\n",
              "      filter: drop-shadow(0px 1px 2px rgba(0, 0, 0, 0.3));\n",
              "      fill: #FFFFFF;\n",
              "    }\n",
              "  </style>\n",
              "\n",
              "    <script>\n",
              "      const buttonEl =\n",
              "        document.querySelector('#df-6575d232-40d2-4a6e-a185-428447ed1e9d button.colab-df-convert');\n",
              "      buttonEl.style.display =\n",
              "        google.colab.kernel.accessAllowed ? 'block' : 'none';\n",
              "\n",
              "      async function convertToInteractive(key) {\n",
              "        const element = document.querySelector('#df-6575d232-40d2-4a6e-a185-428447ed1e9d');\n",
              "        const dataTable =\n",
              "          await google.colab.kernel.invokeFunction('convertToInteractive',\n",
              "                                                    [key], {});\n",
              "        if (!dataTable) return;\n",
              "\n",
              "        const docLinkHtml = 'Like what you see? Visit the ' +\n",
              "          '<a target=\"_blank\" href=https://colab.research.google.com/notebooks/data_table.ipynb>data table notebook</a>'\n",
              "          + ' to learn more about interactive tables.';\n",
              "        element.innerHTML = '';\n",
              "        dataTable['output_type'] = 'display_data';\n",
              "        await google.colab.output.renderOutput(dataTable, element);\n",
              "        const docLink = document.createElement('div');\n",
              "        docLink.innerHTML = docLinkHtml;\n",
              "        element.appendChild(docLink);\n",
              "      }\n",
              "    </script>\n",
              "  </div>\n",
              "\n",
              "\n",
              "<div id=\"df-d57c7af6-1659-4594-84ab-cddca32ad21f\">\n",
              "  <button class=\"colab-df-quickchart\" onclick=\"quickchart('df-d57c7af6-1659-4594-84ab-cddca32ad21f')\"\n",
              "            title=\"Suggest charts\"\n",
              "            style=\"display:none;\">\n",
              "\n",
              "<svg xmlns=\"http://www.w3.org/2000/svg\" height=\"24px\"viewBox=\"0 0 24 24\"\n",
              "     width=\"24px\">\n",
              "    <g>\n",
              "        <path d=\"M19 3H5c-1.1 0-2 .9-2 2v14c0 1.1.9 2 2 2h14c1.1 0 2-.9 2-2V5c0-1.1-.9-2-2-2zM9 17H7v-7h2v7zm4 0h-2V7h2v10zm4 0h-2v-4h2v4z\"/>\n",
              "    </g>\n",
              "</svg>\n",
              "  </button>\n",
              "\n",
              "<style>\n",
              "  .colab-df-quickchart {\n",
              "      --bg-color: #E8F0FE;\n",
              "      --fill-color: #1967D2;\n",
              "      --hover-bg-color: #E2EBFA;\n",
              "      --hover-fill-color: #174EA6;\n",
              "      --disabled-fill-color: #AAA;\n",
              "      --disabled-bg-color: #DDD;\n",
              "  }\n",
              "\n",
              "  [theme=dark] .colab-df-quickchart {\n",
              "      --bg-color: #3B4455;\n",
              "      --fill-color: #D2E3FC;\n",
              "      --hover-bg-color: #434B5C;\n",
              "      --hover-fill-color: #FFFFFF;\n",
              "      --disabled-bg-color: #3B4455;\n",
              "      --disabled-fill-color: #666;\n",
              "  }\n",
              "\n",
              "  .colab-df-quickchart {\n",
              "    background-color: var(--bg-color);\n",
              "    border: none;\n",
              "    border-radius: 50%;\n",
              "    cursor: pointer;\n",
              "    display: none;\n",
              "    fill: var(--fill-color);\n",
              "    height: 32px;\n",
              "    padding: 0;\n",
              "    width: 32px;\n",
              "  }\n",
              "\n",
              "  .colab-df-quickchart:hover {\n",
              "    background-color: var(--hover-bg-color);\n",
              "    box-shadow: 0 1px 2px rgba(60, 64, 67, 0.3), 0 1px 3px 1px rgba(60, 64, 67, 0.15);\n",
              "    fill: var(--button-hover-fill-color);\n",
              "  }\n",
              "\n",
              "  .colab-df-quickchart-complete:disabled,\n",
              "  .colab-df-quickchart-complete:disabled:hover {\n",
              "    background-color: var(--disabled-bg-color);\n",
              "    fill: var(--disabled-fill-color);\n",
              "    box-shadow: none;\n",
              "  }\n",
              "\n",
              "  .colab-df-spinner {\n",
              "    border: 2px solid var(--fill-color);\n",
              "    border-color: transparent;\n",
              "    border-bottom-color: var(--fill-color);\n",
              "    animation:\n",
              "      spin 1s steps(1) infinite;\n",
              "  }\n",
              "\n",
              "  @keyframes spin {\n",
              "    0% {\n",
              "      border-color: transparent;\n",
              "      border-bottom-color: var(--fill-color);\n",
              "      border-left-color: var(--fill-color);\n",
              "    }\n",
              "    20% {\n",
              "      border-color: transparent;\n",
              "      border-left-color: var(--fill-color);\n",
              "      border-top-color: var(--fill-color);\n",
              "    }\n",
              "    30% {\n",
              "      border-color: transparent;\n",
              "      border-left-color: var(--fill-color);\n",
              "      border-top-color: var(--fill-color);\n",
              "      border-right-color: var(--fill-color);\n",
              "    }\n",
              "    40% {\n",
              "      border-color: transparent;\n",
              "      border-right-color: var(--fill-color);\n",
              "      border-top-color: var(--fill-color);\n",
              "    }\n",
              "    60% {\n",
              "      border-color: transparent;\n",
              "      border-right-color: var(--fill-color);\n",
              "    }\n",
              "    80% {\n",
              "      border-color: transparent;\n",
              "      border-right-color: var(--fill-color);\n",
              "      border-bottom-color: var(--fill-color);\n",
              "    }\n",
              "    90% {\n",
              "      border-color: transparent;\n",
              "      border-bottom-color: var(--fill-color);\n",
              "    }\n",
              "  }\n",
              "</style>\n",
              "\n",
              "  <script>\n",
              "    async function quickchart(key) {\n",
              "      const quickchartButtonEl =\n",
              "        document.querySelector('#' + key + ' button');\n",
              "      quickchartButtonEl.disabled = true;  // To prevent multiple clicks.\n",
              "      quickchartButtonEl.classList.add('colab-df-spinner');\n",
              "      try {\n",
              "        const charts = await google.colab.kernel.invokeFunction(\n",
              "            'suggestCharts', [key], {});\n",
              "      } catch (error) {\n",
              "        console.error('Error during call to suggestCharts:', error);\n",
              "      }\n",
              "      quickchartButtonEl.classList.remove('colab-df-spinner');\n",
              "      quickchartButtonEl.classList.add('colab-df-quickchart-complete');\n",
              "    }\n",
              "    (() => {\n",
              "      let quickchartButtonEl =\n",
              "        document.querySelector('#df-d57c7af6-1659-4594-84ab-cddca32ad21f button');\n",
              "      quickchartButtonEl.style.display =\n",
              "        google.colab.kernel.accessAllowed ? 'block' : 'none';\n",
              "    })();\n",
              "  </script>\n",
              "</div>\n",
              "\n",
              "    </div>\n",
              "  </div>\n"
            ],
            "application/vnd.google.colaboratory.intrinsic+json": {
              "type": "dataframe",
              "variable_name": "df",
              "summary": "{\n  \"name\": \"df\",\n  \"rows\": 1000,\n  \"fields\": [\n    {\n      \"column\": \"Id\",\n      \"properties\": {\n        \"dtype\": \"number\",\n        \"std\": 288,\n        \"min\": 1,\n        \"max\": 1000,\n        \"num_unique_values\": 1000,\n        \"samples\": [\n          522,\n          738,\n          741\n        ],\n        \"semantic_type\": \"\",\n        \"description\": \"\"\n      }\n    },\n    {\n      \"column\": \"Age\",\n      \"properties\": {\n        \"dtype\": \"number\",\n        \"std\": 18,\n        \"min\": -19,\n        \"max\": 95,\n        \"num_unique_values\": 88,\n        \"samples\": [\n          64,\n          17,\n          24\n        ],\n        \"semantic_type\": \"\",\n        \"description\": \"\"\n      }\n    },\n    {\n      \"column\": \"Gender\",\n      \"properties\": {\n        \"dtype\": \"category\",\n        \"num_unique_values\": 2,\n        \"samples\": [\n          \"Male\",\n          \"Female\"\n        ],\n        \"semantic_type\": \"\",\n        \"description\": \"\"\n      }\n    },\n    {\n      \"column\": \"Expenditures\",\n      \"properties\": {\n        \"dtype\": \"number\",\n        \"std\": 19564,\n        \"min\": -11491,\n        \"max\": 75098,\n        \"num_unique_values\": 972,\n        \"samples\": [\n          7683,\n          54616\n        ],\n        \"semantic_type\": \"\",\n        \"description\": \"\"\n      }\n    },\n    {\n      \"column\": \"Ethnicity\",\n      \"properties\": {\n        \"dtype\": \"category\",\n        \"num_unique_values\": 8,\n        \"samples\": [\n          \"Hispanic\",\n          \"American Indian\"\n        ],\n        \"semantic_type\": \"\",\n        \"description\": \"\"\n      }\n    },\n    {\n      \"column\": \"Age Cohort\",\n      \"properties\": {\n        \"dtype\": \"category\",\n        \"num_unique_values\": 6,\n        \"samples\": [\n          \"13-17 years\",\n          \"22-50 years\"\n        ],\n        \"semantic_type\": \"\",\n        \"description\": \"\"\n      }\n    }\n  ]\n}"
            }
          },
          "metadata": {},
          "execution_count": 3
        }
      ]
    },
    {
      "cell_type": "markdown",
      "source": [
        "# 3: Analysis and Research Questions\n",
        "### A. Data Quality\n",
        "### 1. Check for Missing  or Erroneous Values: Identify and remove rows with missing  or erroneous values."
      ],
      "metadata": {
        "id": "iyVvUb-4aHhs"
      }
    },
    {
      "cell_type": "code",
      "source": [
        "# Step 1: Check Missing Values\n",
        "print(\"Missing Values:\\n\", df.isnull().sum())\n",
        "\n",
        "# Step 2: Initial Shape (Number of Records Before Cleaning)\n",
        "initial_shape = df.shape[0]\n",
        "print(f\"Number of Records Before Cleaning: {initial_shape}\")\n",
        "\n",
        "# Step 3: Drop Missing Values\n",
        "df_cleaned = df.dropna()\n",
        "\n",
        "# Step 4: Check for Negative Values\n",
        "negative_age_count = (df_cleaned['Age'] < 0).sum()\n",
        "negative_expenditure_count = (df_cleaned['Expenditures'] < 0).sum()\n",
        "\n",
        "print(f\"Negative Age Count: {negative_age_count}\")\n",
        "print(f\"Negative Expenditure Count: {negative_expenditure_count}\")\n",
        "\n",
        "# Step 5: Remove Negative Values\n",
        "df_cleaned = df_cleaned[(df_cleaned['Age'] >= 0) & (df_cleaned['Expenditures'] >= 0)]\n",
        "\n",
        "# Step 6: Number of Records After Cleaning\n",
        "final_shape = df_cleaned.shape[0]\n",
        "print(f\"Number of Records After Cleaning: {final_shape}\")\n",
        "\n",
        "# Step 7: Number of Rows Deleted\n",
        "rows_deleted = initial_shape - final_shape\n",
        "print(f\"Number of Rows Deleted: {rows_deleted}\")\n",
        "print(\"How many row did you delete\" ,rows_deleted)\n",
        "\n",
        "# Step 8: Check Missing Values After Cleaning\n",
        "print(\"Missing Values After Cleaning:\\n\", df_cleaned.isnull().sum())\n",
        "\n",
        "# Step 9: Final Dataset Shape\n",
        "print(\"Dataset Shape After Removing Missing and Erroneous Values:\", df_cleaned.shape)"
      ],
      "metadata": {
        "colab": {
          "base_uri": "https://localhost:8080/"
        },
        "id": "rmvcX0e6wqbB",
        "outputId": "1b9b41d3-78e9-4e9b-f97d-9f68c7ab7952"
      },
      "execution_count": null,
      "outputs": [
        {
          "output_type": "stream",
          "name": "stdout",
          "text": [
            "Missing Values:\n",
            " Id              0\n",
            "Age             0\n",
            "Gender          5\n",
            "Expenditures    0\n",
            "Ethnicity       1\n",
            "Age Cohort      4\n",
            "dtype: int64\n",
            "Number of Records Before Cleaning: 1000\n",
            "Negative Age Count: 0\n",
            "Negative Expenditure Count: 1\n",
            "Number of Records After Cleaning: 989\n",
            "Number of Rows Deleted: 11\n",
            "How many row did you delete 11\n",
            "Missing Values After Cleaning:\n",
            " Id              0\n",
            "Age             0\n",
            "Gender          0\n",
            "Expenditures    0\n",
            "Ethnicity       0\n",
            "Age Cohort      0\n",
            "dtype: int64\n",
            "Dataset Shape After Removing Missing and Erroneous Values: (989, 6)\n"
          ]
        }
      ]
    },
    {
      "cell_type": "markdown",
      "source": [
        "## Handle Outliers in Expenditure Columns\n",
        "### 2. We will use the Interquartile Range (IQR) method to detect and remove outliers in the Expenditures columns.\n",
        "\n"
      ],
      "metadata": {
        "id": "nTBKAyTOnMPU"
      }
    },
    {
      "cell_type": "code",
      "source": [
        "# Define a Function to Detect Outliers\n",
        "def detect_outliers(column):\n",
        "    Q1 = column.quantile(0.25)\n",
        "    Q3 = column.quantile(0.75)\n",
        "    IQR = Q3 - Q1\n",
        "    lower_bound = Q1 - 1.5 * IQR\n",
        "    upper_bound = Q3 + 1.5 * IQR\n",
        "    outliers = column[(column < lower_bound) | (column > upper_bound)]\n",
        "    return outliers"
      ],
      "metadata": {
        "id": "LZeIOC7ujgML"
      },
      "execution_count": null,
      "outputs": []
    },
    {
      "cell_type": "markdown",
      "source": [
        "###i. Check for outliers in the Expenditures column:\n",
        "\n"
      ],
      "metadata": {
        "id": "fPRSiqMAplZY"
      }
    },
    {
      "cell_type": "code",
      "source": [
        "outliers_expenditures = detect_outliers(df_cleaned['Expenditures'])\n",
        "print(f\"Number of outliers in Expenditures: {len(outliers_expenditures)}\")"
      ],
      "metadata": {
        "colab": {
          "base_uri": "https://localhost:8080/"
        },
        "id": "qb-DM1dbaq5B",
        "outputId": "5e24a163-fe86-4ec5-d1e4-8f3b2af407d7"
      },
      "execution_count": null,
      "outputs": [
        {
          "output_type": "stream",
          "name": "stdout",
          "text": [
            "Number of outliers in Expenditures: 0\n"
          ]
        }
      ]
    },
    {
      "cell_type": "markdown",
      "source": [
        "# 3B: Expenditure Analysis:\n",
        "###i. Compute the average expenditure for the following groups:\n",
        "#### - All males\n",
        "#### - All Hispanics\n",
        "#### - All White non-Hispanic males\n",
        "\n"
      ],
      "metadata": {
        "id": "HmpvYMleshoW"
      }
    },
    {
      "cell_type": "code",
      "source": [
        "avg_male = df_cleaned[df_cleaned['Gender'] == 'Male']['Expenditures'].mean()\n",
        "avg_hispanic = df_cleaned[df_cleaned['Ethnicity'] == 'Hispanic']['Expenditures'].mean()\n",
        "avg_white_male = df_cleaned[(df_cleaned['Ethnicity'] == 'White not Hispanic') & (df_cleaned['Gender'] == 'Male')]['Expenditures'].mean()\n",
        "\n",
        "\n",
        "print(\"Average Expenditure (Male):\", avg_male)\n",
        "print(\"Average Expenditure (Hispanic):\", avg_hispanic)\n",
        "print(\"Average Expenditure (White Non-Hispanic Male):\", avg_white_male)"
      ],
      "metadata": {
        "colab": {
          "base_uri": "https://localhost:8080/"
        },
        "id": "tzk6WEZTvS-V",
        "outputId": "eb95ec0d-50bd-4be3-a1d4-9daa1a4fbf6b"
      },
      "execution_count": null,
      "outputs": [
        {
          "output_type": "stream",
          "name": "stdout",
          "text": [
            "Average Expenditure (Male): 18101.865580448066\n",
            "Average Expenditure (Hispanic): 11078.010666666667\n",
            "Average Expenditure (White Non-Hispanic Male): 24573.79591836735\n"
          ]
        }
      ]
    },
    {
      "cell_type": "markdown",
      "source": [
        "###ii. Determine the median annual expenditure for each age cohort:\n",
        "\n"
      ],
      "metadata": {
        "id": "_jGj6vQCC-ua"
      }
    },
    {
      "cell_type": "code",
      "source": [
        "median_exp_by_age_cohort = df_cleaned.groupby('Age Cohort')['Expenditures'].median()\n",
        "print(median_exp_by_age_cohort)"
      ],
      "metadata": {
        "colab": {
          "base_uri": "https://localhost:8080/"
        },
        "id": "PAtaz8DN6qTX",
        "outputId": "644d2a19-9f74-4706-b4ab-d6dd50f3e9f4"
      },
      "execution_count": null,
      "outputs": [
        {
          "output_type": "stream",
          "name": "stdout",
          "text": [
            "Age Cohort\n",
            "0-5 years       1380.5\n",
            "13-17 years     3968.0\n",
            "18-21 years     9979.0\n",
            "22-50 years    40517.0\n",
            "51+ years      53509.0\n",
            "6-12 years      2191.0\n",
            "Name: Expenditures, dtype: float64\n"
          ]
        }
      ]
    },
    {
      "cell_type": "markdown",
      "source": [
        "### iii. Identify the gender with the highest average annual expenditure:"
      ],
      "metadata": {
        "id": "sz1ucFEGEFDR"
      }
    },
    {
      "cell_type": "code",
      "source": [
        "avg_gender = df_cleaned.groupby('Gender')['Expenditures'].mean()\n",
        "print(avg_gender)\n",
        "highest_exp_gender = avg_gender.idxmax()\n",
        "# Expenditure Difference\n",
        "expenditure_diff = avg_gender['Male'] - avg_gender['Female']\n",
        "\n",
        "\n",
        "print(f\"Gender with highest average expenditure: {highest_exp_gender}\")\n",
        "\n",
        "print(f\"Expenditure Difference between Males and Females: ${expenditure_diff}\")\n"
      ],
      "metadata": {
        "colab": {
          "base_uri": "https://localhost:8080/"
        },
        "id": "p6ji4cKo8tDA",
        "outputId": "b812603e-24f7-44e9-e24b-16a548e55cf6"
      },
      "execution_count": null,
      "outputs": [
        {
          "output_type": "stream",
          "name": "stdout",
          "text": [
            "Gender\n",
            "Female    18265.178715\n",
            "Male      18101.865580\n",
            "Name: Expenditures, dtype: float64\n",
            "Gender with highest average expenditure: Female\n",
            "Expenditure Difference between Males and Females: $-163.31313441137172\n"
          ]
        }
      ]
    },
    {
      "cell_type": "markdown",
      "source": [
        "###iv. Calculate the total annual expenditures for each ethnic group:\n",
        "\n"
      ],
      "metadata": {
        "id": "Bo7vsty5GIgk"
      }
    },
    {
      "cell_type": "code",
      "source": [
        "total_exp_by_ethnicity = df_cleaned.groupby('Ethnicity')['Expenditures'].sum()\n",
        "print(total_exp_by_ethnicity)"
      ],
      "metadata": {
        "colab": {
          "base_uri": "https://localhost:8080/"
        },
        "id": "-8Kj2MsyFksk",
        "outputId": "67965ab4-0912-45a3-a971-83997d45f160"
      },
      "execution_count": null,
      "outputs": [
        {
          "output_type": "stream",
          "name": "stdout",
          "text": [
            "Ethnicity\n",
            "American Indian        145753\n",
            "Asian                 2334516\n",
            "Black                 1209633\n",
            "Hispanic              4154254\n",
            "Multi Race             101562\n",
            "Native Hawaiian        128347\n",
            "Other                    6633\n",
            "White not Hispanic    9903377\n",
            "Name: Expenditures, dtype: int64\n"
          ]
        }
      ]
    },
    {
      "cell_type": "markdown",
      "source": [
        "#3C: Demographic Analysis"
      ],
      "metadata": {
        "id": "nXJROC-QGqGj"
      }
    },
    {
      "cell_type": "markdown",
      "source": [
        "### i: Identify the ethnic group with the highest number of consumers in the 22-50-year age cohort:\n",
        "\n"
      ],
      "metadata": {
        "id": "kOcu34wLG0-5"
      }
    },
    {
      "cell_type": "code",
      "source": [
        "ethnic_group_22_50 = df_cleaned[df_cleaned['Age Cohort'] == '22-50 years'].groupby('Ethnicity').size().idxmax()\n",
        "print(f\"Ethnic group with highest number of consumers in 22-50 years: {ethnic_group_22_50}\")"
      ],
      "metadata": {
        "colab": {
          "base_uri": "https://localhost:8080/"
        },
        "id": "tgTVzt3VGO2n",
        "outputId": "ba1c5cec-9ffe-4957-a0cd-f211ebcab5df"
      },
      "execution_count": null,
      "outputs": [
        {
          "output_type": "stream",
          "name": "stdout",
          "text": [
            "Ethnic group with highest number of consumers in 22-50 years: White not Hispanic\n"
          ]
        }
      ]
    },
    {
      "cell_type": "markdown",
      "source": [
        "### ii. Determine the most populous age cohort for each gender:\n",
        "\n"
      ],
      "metadata": {
        "id": "rj6wKONRHsxn"
      }
    },
    {
      "cell_type": "code",
      "source": [
        "most_populous_age_cohort_male = df_cleaned[df_cleaned['Gender'] == 'Male'].groupby('Age Cohort').size().idxmax()\n",
        "most_populous_age_cohort_female = df_cleaned[df_cleaned['Gender'] == 'Female'].groupby('Age Cohort').size().idxmax()\n",
        "\n",
        "print(f\"Most populous age cohort for males: {most_populous_age_cohort_male}\")\n",
        "print(f\"Most populous age cohort for females: {most_populous_age_cohort_female}\")"
      ],
      "metadata": {
        "colab": {
          "base_uri": "https://localhost:8080/"
        },
        "id": "LawhAj7eHTd9",
        "outputId": "c321bc94-8634-4f69-d607-2d6b8138d0db"
      },
      "execution_count": null,
      "outputs": [
        {
          "output_type": "stream",
          "name": "stdout",
          "text": [
            "Most populous age cohort for males: 22-50 years\n",
            "Most populous age cohort for females: 13-17 years\n"
          ]
        }
      ]
    },
    {
      "cell_type": "markdown",
      "source": [
        "#D: Main Question - Is There Discrimination/Bias?\n",
        "###i. Calculate the percentage of Hispanic and White non-Hispanic consumers"
      ],
      "metadata": {
        "id": "T3Ho38CXKRzc"
      }
    },
    {
      "cell_type": "code",
      "source": [
        "total_customers = len(df_cleaned)\n",
        "hispanic_percentage = len(df_cleaned[df_cleaned['Ethnicity'] == 'Hispanic']) / total_customers * 100\n",
        "white_non_hispanic_percentage = len(df_cleaned[df_cleaned['Ethnicity'] == 'White not Hispanic']) / total_customers * 100\n",
        "\n",
        "print(f\"Percentage of Hispanic customers: {hispanic_percentage:.2f}%\")\n",
        "print(f\"Percentage of White non-Hispanic customers: {white_non_hispanic_percentage:.2f}%\")\n",
        "\n",
        "\n",
        "# Calculate percentages\n",
        "total_customers = len(df_cleaned)\n",
        "hispanic_percentage = (len(df_cleaned[df_cleaned['Ethnicity'] == 'Hispanic']) / total_customers) * 100\n",
        "white_non_hispanic_percentage = (len(df_cleaned[df_cleaned['Ethnicity'] == 'White not Hispanic']) / total_customers) * 100\n",
        "\n",
        "# Data for visualization\n",
        "ethnicity_percentages = {\n",
        "    'Hispanic': hispanic_percentage,\n",
        "    'White not Hispanic': white_non_hispanic_percentage\n",
        "}\n",
        "\n",
        "# Create a bar plot\n",
        "plt.figure(figsize=(8, 6))\n",
        "sns.barplot(x=list(ethnicity_percentages.keys()), y=list(ethnicity_percentages.values()), palette='viridis')\n",
        "plt.title('Percentage of Customers by Ethnicity')\n",
        "plt.ylabel('Percentage (%)')\n",
        "plt.xlabel('Ethnicity')\n",
        "plt.ylim(0, 100)  # Set y-axis limit to 0-100 for percentages\n",
        "\n",
        "# Add percentage labels on top of the bars\n",
        "for i, value in enumerate(ethnicity_percentages.values()):\n",
        "    plt.text(i, value + 1, f'{value:.2f}%', ha='center')\n",
        "\n",
        "plt.show()"
      ],
      "metadata": {
        "colab": {
          "base_uri": "https://localhost:8080/",
          "height": 706
        },
        "id": "OjO9hqkjJ80W",
        "outputId": "ce109b74-c35d-44bf-e843-4ffccc4e3d1e"
      },
      "execution_count": null,
      "outputs": [
        {
          "output_type": "stream",
          "name": "stdout",
          "text": [
            "Percentage of Hispanic customers: 37.92%\n",
            "Percentage of White non-Hispanic customers: 40.44%\n"
          ]
        },
        {
          "output_type": "stream",
          "name": "stderr",
          "text": [
            "<ipython-input-14-753e32e59011>:22: FutureWarning: \n",
            "\n",
            "Passing `palette` without assigning `hue` is deprecated and will be removed in v0.14.0. Assign the `x` variable to `hue` and set `legend=False` for the same effect.\n",
            "\n",
            "  sns.barplot(x=list(ethnicity_percentages.keys()), y=list(ethnicity_percentages.values()), palette='viridis')\n"
          ]
        },
        {
          "output_type": "display_data",
          "data": {
            "text/plain": [
              "<Figure size 800x600 with 1 Axes>"
            ],
            "image/png": "[encoded data removed]"
          },
          "metadata": {}
        }
      ]
    },
    {
      "cell_type": "markdown",
      "source": [
        "###ii. Compare expenditures between Hispanic and White non-Hispanic consumers:\n",
        "\n"
      ],
      "metadata": {
        "id": "6nWXnLL6KmkS"
      }
    },
    {
      "cell_type": "code",
      "source": [
        "# Calculate total expenditures\n",
        "total_exp_hispanic = df_cleaned[df_cleaned['Ethnicity'] == 'Hispanic']['Expenditures'].sum()\n",
        "total_exp_white_non_hispanic = df_cleaned[df_cleaned['Ethnicity'] == 'White not Hispanic']['Expenditures'].sum()\n",
        "print(\"Total Expenditure (Hispanic):\", total_exp_hispanic)\n",
        "print(\"Total Expenditure (White Non-Hispanic):\", total_exp_white_non_hispanic)\n",
        "\n",
        "# Data for visualization\n",
        "expenditures = {\n",
        "    'Hispanic': total_exp_hispanic,\n",
        "    'White not Hispanic': total_exp_white_non_hispanic\n",
        "}\n",
        "\n",
        "# Create a bar plot\n",
        "plt.figure(figsize=(8, 6))\n",
        "sns.barplot(x=list(expenditures.keys()), y=list(expenditures.values()), palette='viridis')\n",
        "plt.title('Total Expenditures by Ethnicity')\n",
        "plt.ylabel('Total Expenditures ($)')\n",
        "plt.xlabel('Ethnicity')\n",
        "\n",
        "# Add value labels on top of the bars\n",
        "for i, value in enumerate(expenditures.values()):\n",
        "    plt.text(i, value + 10000, f'${value:,}', ha='center')  # Adjust the offset (10000) as needed\n",
        "\n",
        "plt.show()"
      ],
      "metadata": {
        "colab": {
          "base_uri": "https://localhost:8080/",
          "height": 706
        },
        "id": "a0JKi2HwLAgz",
        "outputId": "73b8402e-5683-4dc3-e6aa-15659258fa6b"
      },
      "execution_count": null,
      "outputs": [
        {
          "output_type": "stream",
          "name": "stdout",
          "text": [
            "Total Expenditure (Hispanic): 4154254\n",
            "Total Expenditure (White Non-Hispanic): 9903377\n"
          ]
        },
        {
          "output_type": "stream",
          "name": "stderr",
          "text": [
            "<ipython-input-15-62a922ea6390>:15: FutureWarning: \n",
            "\n",
            "Passing `palette` without assigning `hue` is deprecated and will be removed in v0.14.0. Assign the `x` variable to `hue` and set `legend=False` for the same effect.\n",
            "\n",
            "  sns.barplot(x=list(expenditures.keys()), y=list(expenditures.values()), palette='viridis')\n"
          ]
        },
        {
          "output_type": "display_data",
          "data": {
            "text/plain": [
              "<Figure size 800x600 with 1 Axes>"
            ],
            "image/png": "[encoded data removed]"
          },
          "metadata": {}
        }
      ]
    },
    {
      "cell_type": "code",
      "source": [
        "# Filter the data to include only Hispanic and White not Hispanic consumers\n",
        "filtered_df = df_cleaned[df_cleaned['Ethnicity'].isin(['Hispanic', 'White not Hispanic'])]\n",
        "\n",
        "# Group by Age Cohort and Ethnicity, then calculate the mean (average) expenditures\n",
        "avg_exp_by_age_cohort = filtered_df.groupby(['Age Cohort', 'Ethnicity'], as_index=False)['Expenditures'].mean()\n",
        "\n",
        "# Pivot the table to have Hispanic and White not Hispanic as columns\n",
        "avg_exp_by_age_cohort = avg_exp_by_age_cohort.pivot(index='Age Cohort', columns='Ethnicity', values='Expenditures')\n",
        "\n",
        "# Rename columns for clarity\n",
        "avg_exp_by_age_cohort = avg_exp_by_age_cohort.rename(columns={\n",
        "    'Hispanic': 'Avg Expenditure Hispanic',\n",
        "    'White not Hispanic': 'Avg Expenditure White not Hispanic'\n",
        "})\n",
        "\n",
        "# Reset the index to make Age Cohort a column (not an index)\n",
        "avg_exp_by_age_cohort = avg_exp_by_age_cohort.reset_index()\n",
        "\n",
        "print(\"Average expenditures by age cohort (Hispanic and White not Hispanic only):\")\n",
        "print(avg_exp_by_age_cohort.to_string(index=False))  # Remove the index when printing\n",
        "\n",
        "# Plot the data\n",
        "plt.figure(figsize=(10, 6))\n",
        "avg_exp_by_age_cohort.plot(x='Age Cohort', y=['Avg Expenditure Hispanic', 'Avg Expenditure White not Hispanic'], kind='bar', colormap='viridis')\n",
        "plt.title('Average Expenditures by Age Cohort (Hispanic and White not Hispanic)')\n",
        "plt.ylabel('Average Expenditures ($)')\n",
        "plt.xlabel('Age Cohort')\n",
        "plt.xticks(rotation=45)\n",
        "plt.tight_layout()\n",
        "plt.show()\n"
      ],
      "metadata": {
        "colab": {
          "base_uri": "https://localhost:8080/",
          "height": 643
        },
        "id": "IF4e0cdcGrih",
        "outputId": "a9a5dd26-0f28-44f1-a5d5-4f8e2d495947"
      },
      "execution_count": null,
      "outputs": [
        {
          "output_type": "stream",
          "name": "stdout",
          "text": [
            "Average expenditures by age cohort (Hispanic and White not Hispanic only):\n",
            " Age Cohort  Avg Expenditure Hispanic  Avg Expenditure White not Hispanic\n",
            "  0-5 years               1393.204545                         1420.947368\n",
            "13-17 years               3955.281553                         3904.358209\n",
            "18-21 years              10006.077922                        10133.057971\n",
            "22-50 years              40924.116279                        40187.624060\n",
            "  51+ years              55585.000000                        52670.424242\n",
            " 6-12 years               2312.186813                         2052.260870\n"
          ]
        },
        {
          "output_type": "display_data",
          "data": {
            "text/plain": [
              "<Figure size 1000x600 with 0 Axes>"
            ]
          },
          "metadata": {}
        },
        {
          "output_type": "display_data",
          "data": {
            "text/plain": [
              "<Figure size 640x480 with 1 Axes>"
            ],
            "image/png": "[encoded data removed]"
          },
          "metadata": {}
        }
      ]
    },
    {
      "cell_type": "markdown",
      "source": [
        "### iii. Assess if there is evidence of racial bias in the allocation of expenditure"
      ],
      "metadata": {
        "id": "PG9p_JR1H77s"
      }
    },
    {
      "cell_type": "code",
      "source": [
        "# Calculate average expenditures\n",
        "avg_exp_hispanic = df_cleaned[df_cleaned['Ethnicity'] == 'Hispanic']['Expenditures'].mean()\n",
        "avg_exp_white_non_hispanic = df_cleaned[df_cleaned['Ethnicity'] == 'White not Hispanic']['Expenditures'].mean()\n",
        "\n",
        "print(f\"Average expenditure for Hispanic consumers: ${avg_exp_hispanic:,.2f}\")\n",
        "print(f\"Average expenditure for White non-Hispanic consumers: ${avg_exp_white_non_hispanic:,.2f}\")"
      ],
      "metadata": {
        "colab": {
          "base_uri": "https://localhost:8080/"
        },
        "id": "uyr3mbpPo7NA",
        "outputId": "6343943e-c372-464a-eb38-1be18041b055"
      },
      "execution_count": null,
      "outputs": [
        {
          "output_type": "stream",
          "name": "stdout",
          "text": [
            "Average expenditure for Hispanic consumers: $8,964.55\n",
            "Average expenditure for White non-Hispanic consumers: $19,152.27\n"
          ]
        }
      ]
    },
    {
      "cell_type": "code",
      "source": [
        "from scipy.stats import ttest_ind\n",
        "\n",
        "# Perform a t-test to compare expenditures\n",
        "hispanic_expenditures = df_cleaned[df_cleaned['Ethnicity'] == 'Hispanic']['Expenditures']\n",
        "white_non_hispanic_expenditures = df_cleaned[df_cleaned['Ethnicity'] == 'White not Hispanic']['Expenditures']\n",
        "\n",
        "t_stat, p_value = ttest_ind(hispanic_expenditures, white_non_hispanic_expenditures, equal_var=False)\n",
        "print(f\"T-statistic: {t_stat:.2f}, P-value: {p_value:.4f}\")\n",
        "\n",
        "if p_value < 0.05:\n",
        "    print(\"The difference in expenditures is statistically significant (p < 0.05).\")\n",
        "else:\n",
        "    print(\"The difference in expenditures is not statistically significant (p >= 0.05).\")"
      ],
      "metadata": {
        "colab": {
          "base_uri": "https://localhost:8080/"
        },
        "id": "tVGB_13VnfUl",
        "outputId": "f80b3610-354b-43be-fc25-7e3270e33815"
      },
      "execution_count": null,
      "outputs": [
        {
          "output_type": "stream",
          "name": "stdout",
          "text": [
            "T-statistic: -8.68, P-value: 0.0000\n",
            "The difference in expenditures is statistically significant (p < 0.05).\n"
          ]
        }
      ]
    },
    {
      "cell_type": "code",
      "source": [
        "if avg_exp_hispanic < avg_exp_white_non_hispanic and p_value < 0.05:\n",
        "    print(\"There is evidence of racial bias, with White non-Hispanic consumers receiving significantly higher expenditures.\")\n",
        "elif avg_exp_hispanic > avg_exp_white_non_hispanic and p_value < 0.05:\n",
        "    print(\"There is evidence of racial bias, with Hispanic consumers receiving significantly higher expenditures.\")\n",
        "else:\n",
        "    print(\"There is no significant evidence of racial bias in the allocation of expenditures.\")"
      ],
      "metadata": {
        "colab": {
          "base_uri": "https://localhost:8080/"
        },
        "id": "MTVovcQDofT1",
        "outputId": "0360c224-5ac5-4894-f85b-20f7db6a77fe"
      },
      "execution_count": null,
      "outputs": [
        {
          "output_type": "stream",
          "name": "stdout",
          "text": [
            "There is evidence of racial bias, with White non-Hispanic consumers receiving significantly higher expenditures.\n"
          ]
        }
      ]
    },
    {
      "cell_type": "code",
      "source": [],
      "metadata": {
        "id": "2wCNz8IlojrD"
      },
      "execution_count": null,
      "outputs": []
    }
  ]
}